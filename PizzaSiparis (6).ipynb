{
  "nbformat": 4,
  "nbformat_minor": 0,
  "metadata": {
    "colab": {
      "provenance": []
    },
    "kernelspec": {
      "name": "python3",
      "display_name": "Python 3"
    },
    "language_info": {
      "name": "python"
    }
  },
  "cells": [
    {
      "cell_type": "markdown",
      "source": [
        "# Yeni Bölüm"
      ],
      "metadata": {
        "id": "WJmNN1_teCcB"
      }
    },
    {
      "cell_type": "code",
      "execution_count": 1,
      "metadata": {
        "id": "byONdcON-eWs"
      },
      "outputs": [],
      "source": [
        "import csv\n",
        "import datetime"
      ]
    },
    {
      "cell_type": "code",
      "source": [
        "with open('Menu.txt', 'w') as file:\n",
        "    file.write('- Lütfen Bir Pizza Tabanı Seçiniz:\\n1: Klasik\\n2: Margarita\\n3: TürkPizza\\n4: Sade Pizza\\n')\n",
        "    file.write('- Lütfen Sos Seçin:\\n11: Zeytin\\n12: Mantar\\n13: Keçi Peyniri\\n14: Et\\n15: Soğan\\n16: Mısır\\n')\n",
        "    file.write(' Teşekkür ederiz!')"
      ],
      "metadata": {
        "id": "P8g0eiMzAs6y"
      },
      "execution_count": 2,
      "outputs": []
    },
    {
      "cell_type": "code",
      "source": [
        "class Pizza:\n",
        "    def __init__(self, description, cost):\n",
        "        self.__description = description\n",
        "        self.__cost = cost\n",
        "\n",
        "    def get_description(self):\n",
        "        return self.__description\n",
        "\n",
        "    def get_cost(self):\n",
        "        return self.__cost"
      ],
      "metadata": {
        "id": "UNbwWAwfgZd2"
      },
      "execution_count": 3,
      "outputs": []
    },
    {
      "cell_type": "code",
      "source": [
        "#Pizza çeşitlerimizi Pizza classının subclassları olacak sekilde kodluyoruz\n",
        "class Klasik(Pizza):\n",
        "    def __init__(self):\n",
        "        description = \"Kalın hamur, ince kenar, sucuk, kaşar\"\n",
        "        cost = 15.99\n",
        "        super().__init__(description, cost) #Burada Pizza üst sınıfındaki açıklama ve fiyat methodunu super() ile çağırmış olduk\n",
        "\n",
        "class Margarita(Pizza):\n",
        "    def __init__(self):\n",
        "        description = \"İnce hamur, ince kenar, domates sosu, mozarella peyniri\"\n",
        "        cost = 19.99\n",
        "        super().__init__(description, cost) \n",
        "\n",
        "class Turkish(Pizza):\n",
        "    def __init__(self):\n",
        "        description = \"Kalın hamur, ince kenar, sucuk, kaşar, mantar, sosis\"\n",
        "        cost = 23.99\n",
        "        super().__init__(description, cost) \n",
        "\n",
        "class Sade(Pizza):\n",
        "    def __init__(self):\n",
        "        description = \"Kalın hamur, kalın kenar, kaşar\"\n",
        "        cost = 12.99\n",
        "        super().__init__(description, cost)"
      ],
      "metadata": {
        "id": "5dcR4Gpcgqo0"
      },
      "execution_count": 4,
      "outputs": []
    },
    {
      "cell_type": "code",
      "source": [
        "#İçerisinde açıklama ve fiyat fonksiyonları olan Malzeme adında bir üst sos sınıfı oluşturacağız\n",
        "class Malzeme(Pizza):\n",
        "    def __init__(self, pizza):\n",
        "        self._pizza = pizza\n",
        "\n",
        "    def get_description(self):\n",
        "        return self._pizza.get_description()\n",
        "\n",
        "    def get_cost(self):\n",
        "        return self._pizza.get_cost()\n",
        "\n",
        "\n",
        "class Zeytin(Malzeme):\n",
        "    def __init__(self, pizza):\n",
        "        cost = 2.50\n",
        "        description = \"Zeytin\"\n",
        "        super().__init__(pizza)\n",
        "        self._description = pizza.get_description() + \", \" + description\n",
        "        self._cost = pizza.get_cost() + cost\n",
        "\n",
        "    def get_description(self):\n",
        "        return self._description\n",
        "\n",
        "    def get_cost(self):\n",
        "        return self._cost\n",
        "\n",
        "\n",
        "class Mantar(Malzeme):\n",
        "    def __init__(self, pizza):\n",
        "        cost = 3.00\n",
        "        description = \"Mantar\"\n",
        "        super().__init__(pizza)\n",
        "        self._description = pizza.get_description() + \", \" + description\n",
        "        self._cost = pizza.get_cost() + cost\n",
        "\n",
        "    def get_description(self):\n",
        "        return self._description\n",
        "\n",
        "    def get_cost(self):\n",
        "        return self._cost\n",
        "\n",
        "\n",
        "class Keci_Peyniri(Malzeme):\n",
        "    def __init__(self, pizza):\n",
        "        cost = 4.00\n",
        "        description = \"Keçi Peyniri\"\n",
        "        super().__init__(pizza)\n",
        "        self._description = pizza.get_description() + \", \" + description\n",
        "        self._cost = pizza.get_cost() + cost\n",
        "\n",
        "    def get_description(self):\n",
        "        return self._description\n",
        "\n",
        "    def get_cost(self):\n",
        "        return self._cost\n",
        "\n",
        "\n",
        "class Et(Malzeme):\n",
        "    def __init__(self, pizza):\n",
        "        cost = 7.00\n",
        "        description = \"Et\"\n",
        "        super().__init__(pizza)\n",
        "        self._description = pizza.get_description() + \", \" + description\n",
        "        self._cost = pizza.get_cost() + cost\n",
        "\n",
        "    def get_description(self):\n",
        "        return self._description\n",
        "\n",
        "    def get_cost(self):\n",
        "        return self._cost\n",
        "\n",
        "class Sogan(Malzeme):\n",
        "    def __init__(self, pizza):\n",
        "        cost = 2.00\n",
        "        description = \"Keçi Peyniri\"\n",
        "        super().__init__(pizza)\n",
        "        self._description = pizza.get_description() + \", \" + description\n",
        "        self._cost = pizza.get_cost() + cost\n",
        "\n",
        "    def get_description(self):\n",
        "        return self._description\n",
        "\n",
        "    def get_cost(self):\n",
        "        return self._cost\n",
        "\n",
        "\n",
        "class Misir(Malzeme):\n",
        "    def __init__(self, pizza):\n",
        "        cost = 2.50\n",
        "        description = \"Et\"\n",
        "        super().__init__(pizza)\n",
        "        self._description = pizza.get_description() + \", \" + description\n",
        "        self._cost = pizza.get_cost() + cost\n",
        "\n",
        "    def get_description(self):\n",
        "        return self._description\n",
        "\n",
        "    def get_cost(self):\n",
        "        return self._cost"
      ],
      "metadata": {
        "id": "Dd5xlDTXiHty"
      },
      "execution_count": 5,
      "outputs": []
    },
    {
      "cell_type": "code",
      "source": [
        "def main():\n",
        "    with open('Menu.txt', 'r') as file:\n",
        "        liste = file.read() # Menü listesini kullanıcı karşısına getirecek\n",
        "        print(liste)\n",
        "    \n",
        "    pizza_sec = \"\" #UnboundLocalError hatası aldığım için. Sonlara doğru dictionary oluşturuyorum(nedenini orada açıkladım) fakat hata alıyordum. Çözmek için başlangıçta değer atadım.\n",
        "    malzeme_sec = \"\"\n",
        "\n",
        "    while True:\n",
        "        try:                      \n",
        "            pizza_sec = int(input(\"Lütfen bir pizza seçiniz (1-4): \"))\n",
        "            if pizza_sec < 1 or pizza_sec > 4:\n",
        "                raise ValueError\n",
        "            break\n",
        "        except ValueError:\n",
        "            print(\"Lütfen geçerli bir seçenek seçin (1-4).\")\n",
        "\n",
        "    # Not: Yukardaki kısım kullanıcının seçim hatasını engellemek için. Alt kısımda, geçerli aralıkta input alındıktan sonra sipariş alımının devamı\n",
        "   \n",
        "    if pizza_sec == 1:\n",
        "        pizza = Klasik()\n",
        "    elif pizza_sec == 2:\n",
        "        pizza = Margarita()\n",
        "    elif pizza_sec == 3:\n",
        "        pizza = Turkish()\n",
        "    else:\n",
        "        pizza = Sade()\n",
        "\n",
        "    while True: # Burada da pizza seçiminde yaptığımız gibi oluşabilecek hatayı engelliyoruz.\n",
        "        try:\n",
        "            malzeme_sec = int(input(\"Lütfen bir sos seçiniz (11-16): \"))\n",
        "            if malzeme_sec < 11 or malzeme_sec > 16:\n",
        "                raise ValueError\n",
        "            break\n",
        "        except ValueError:\n",
        "            print(\"Lütfen geçerli bir seçenek seçin (11-16).\")\n",
        "\n",
        "    # Malzeme seçimine göre pizzaya ilave edilmesi\n",
        "    if malzeme_sec == 11:\n",
        "      pizza = Zeytin(pizza)\n",
        "    elif malzeme_sec == 12:\n",
        "      pizza = Mantar(pizza)\n",
        "    elif malzeme_sec == 13:\n",
        "      pizza = Keci_Peyniri(pizza)\n",
        "    elif malzeme_sec == 14:\n",
        "      pizza = Et(pizza)\n",
        "    elif malzeme_sec == 15:\n",
        "      pizza = Sogan(pizza)\n",
        "    else:\n",
        "      pizza = Misir(pizza)    \n",
        "    \n",
        "    total_cost = pizza.get_cost() # \n",
        "    print(\"Toplam tutar: {:.2f} TL\".format(total_cost)) # Fiyatları virgülden sonra 2 basamak ayarlamak için. Yoksa bir sürü basamaklı oluyor :D \n",
        "    \n",
        "    \n",
        "    name = input(\"Ad Soyad: \") # Kullanıcının kişisel bilgileri\n",
        "    \n",
        "    while True:     #Bu kısım hatalı,eksik TC girilmesin diye. \n",
        "      try:\n",
        "        tc = input(\"TC Kimlik Numaranız: \")\n",
        "        if len(tc) != 11 or not tc.isdigit():\n",
        "            raise ValueError\n",
        "        break\n",
        "      except ValueError:\n",
        "        print(\"Eksik girdiniz. Lütfen 11 haneli TC kimlik numaranızı eksiksiz ve doğru girin\")\n",
        "\n",
        "\n",
        "   \n",
        "    while True:     #Bu kısım hatalı,eksik kart numarası girilmesin diye. \n",
        "      try:\n",
        "        credit_card_number = input(\"Kredi kartı numaranzı giriniz: \")\n",
        "        if len(credit_card_number) != 16 or not credit_card_number.isdigit():\n",
        "            raise ValueError\n",
        "        break\n",
        "      except ValueError:\n",
        "        print(\"Eksik girdiniz. Lütfen 16 haneli kredi kartı numaranızı eksiksiz ve doğru girin\")\n",
        "    \n",
        "    \n",
        "    \n",
        "    \n",
        "    while True:     #Bu kısım hatalı,eksik şifre girilmesin diye. \n",
        "      try:\n",
        "        password = input(\"Kredi kartı şifreniz: \")\n",
        "        if len(password) != 4 or not password.isdigit():\n",
        "            raise ValueError\n",
        "        break\n",
        "      except ValueError:\n",
        "        print(\"Eksik girdiniz. Lütfen 4 haneli kredi kartı şifrenizi eksiksiz ve doğru girin\")\n",
        "\n",
        "    \n",
        "    order_time = datetime.datetime.now()\n",
        " \n",
        "    \"\"\"\n",
        "    Alt kısmı müşteri bilgilerini depolarken pizza ve malzemeyi int olarak depoladığı için yazdım. \n",
        "    Önce 2 adet dictionary oluşturdum ve sec kisimlarini dict eşitleyip isimleri çektim\n",
        "    \"\"\"\n",
        "\n",
        "    pizza_dict = {1: \"Klasik\", 2: \"Margarita\", 3: \"Türk Pizza\", 4: \"Sade\"} \n",
        "    malzeme_dict = {11: \"Zeytin\", 12: \"Mantar\", 13: \"Keçi Peyniri\", 14: \"Et\", 15: \"Soğan\", 16: \"Mısır\"}\n",
        "    pizza_name = pizza_dict.get(pizza_sec)\n",
        "    malzeme_name = malzeme_dict.get(malzeme_sec)\n",
        "   \n",
        "    filename = \"Orders_Database.csv\" #Kullanıcı inputlarını toplamak için oluşturduğum dosya\n",
        "    fields = ['Pizza', 'Malzeme', 'İsim Soyisim', \"TC\", 'Kart No', 'Şifre', 'Sipariş Zamanı']\n",
        "\n",
        "    with open(filename, 'a', newline='') as csvfile: \n",
        "      csvwriter = csv.writer(csvfile)\n",
        "      #csvwriter.writerow(fields)\n",
        "      csvwriter.writerow([pizza_name, malzeme_name, name, tc, credit_card_number, password, order_time])\n",
        "\n",
        "\n",
        "    \n",
        "    print(\"Ödeme işlemi tamamlandı. Teşekkür ederiz!\") # Ödeme bittikten sonra müşteriye giden mesaj.   \n",
        "\n",
        "\n",
        "\n"
      ],
      "metadata": {
        "id": "lN6yuz-siH8z"
      },
      "execution_count": 10,
      "outputs": []
    },
    {
      "cell_type": "code",
      "source": [
        "main()"
      ],
      "metadata": {
        "colab": {
          "base_uri": "https://localhost:8080/"
        },
        "id": "zXgClMhTrQsq",
        "outputId": "075726a0-ca7f-432b-9536-da6906a1f6aa"
      },
      "execution_count": 7,
      "outputs": [
        {
          "output_type": "stream",
          "name": "stdout",
          "text": [
            "- Lütfen Bir Pizza Tabanı Seçiniz:\n",
            "1: Klasik\n",
            "2: Margarita\n",
            "3: TürkPizza\n",
            "4: Sade Pizza\n",
            "- Lütfen Sos Seçin:\n",
            "11: Zeytin\n",
            "12: Mantar\n",
            "13: Keçi Peyniri\n",
            "14: Et\n",
            "15: Soğan\n",
            "16: Mısır\n",
            " Teşekkür ederiz!\n",
            "Lütfen bir pizza seçiniz (1-4): 1\n",
            "Lütfen bir sos seçiniz (11-16): 13\n",
            "Toplam tutar: 19.99 TL\n",
            "Ad Soyad: burak karakaya\n",
            "TC Kimlik Numaranız: 14714715852\n",
            "Kredi kartı numaranzı giriniz: 2222555588887777\n",
            "Kredi kartı şifreniz: 1548\n",
            "Ödeme işlemi tamamlandı. Teşekkür ederiz!\n"
          ]
        }
      ]
    },
    {
      "cell_type": "code",
      "source": [
        "\"\"\"\n",
        "#Depolanan datanın görüntülenmesi için printten sonra kodu yukarı kopyalayın.\n",
        "\n",
        "    with open(filename, 'r') as csvfile:\n",
        "      csvreader = csv.reader(csvfile)\n",
        "      for row in csvreader:\n",
        "        print(row)\n",
        "\"\"\""
      ],
      "metadata": {
        "colab": {
          "base_uri": "https://localhost:8080/",
          "height": 36
        },
        "outputId": "9b64f0b2-5614-45cd-d625-8b0a30a96484",
        "id": "ED__nr5gBLzq"
      },
      "execution_count": 9,
      "outputs": [
        {
          "output_type": "execute_result",
          "data": {
            "text/plain": [
              "\"\\n#Depolanan datanın görüntülenmesi\\n\\nwith open(filename, 'r') as csvfile:\\n    csvreader = csv.reader(csvfile)\\n    for row in csvreader:\\n      fields = next(csv.reader)\\n      for row in csvreader:\\n        rows.append(row)\\n\""
            ],
            "application/vnd.google.colaboratory.intrinsic+json": {
              "type": "string"
            }
          },
          "metadata": {},
          "execution_count": 9
        }
      ]
    }
  ]
}